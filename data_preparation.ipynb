{
 "cells": [
  {
   "cell_type": "markdown",
   "metadata": {},
   "source": [
    "# Polaris-Arctic Demo Dataset\n",
    "\n",
    "1. ERA5 Reanalysis dataset\n",
    "    - Sea Ice Concentration\n",
    "    - 10m Wind Speed (u, v)\n",
    "    - Significant Wave Height\n",
    "2. ArcNet\n",
    "    - Priority Areas for Conservation"
   ]
  },
  {
   "cell_type": "markdown",
   "metadata": {},
   "source": [
    "## ERA5 Reanalysis Dataset\n",
    "\n",
    "To download this dataset, you need to sign in [Climate Data Source](https://cds.climate.copernicus.eu/) and save personal access token into __$HOME/.cdsapirc__. \n",
    "\n",
    "Follow the detail instruction [here](https://cds.climate.copernicus.eu/how-to-api)."
   ]
  },
  {
   "cell_type": "code",
   "execution_count": 7,
   "metadata": {},
   "outputs": [],
   "source": [
    "import cdsapi"
   ]
  },
  {
   "cell_type": "code",
   "execution_count": 8,
   "metadata": {},
   "outputs": [
    {
     "name": "stderr",
     "output_type": "stream",
     "text": [
      "2025-02-15 14:42:03,720 INFO [2024-09-26T00:00:00] Watch our [Forum](https://forum.ecmwf.int/) for Announcements, news and other discussed topics.\n",
      "2025-02-15 14:42:03,722 WARNING [2024-06-16T00:00:00] CDS API syntax is changed and some keys or parameter names may have also changed. To avoid requests failing, please use the \"Show API request code\" tool on the dataset Download Form to check you are using the correct syntax for your API request.\n",
      "2025-02-15 14:42:04,163 INFO Request ID is db4d1b43-349f-4c82-9806-86af3f3c62d6\n",
      "2025-02-15 14:42:04,241 INFO status has been updated to accepted\n",
      "2025-02-15 14:42:12,732 INFO status has been updated to successful\n",
      "                                                                                          \r"
     ]
    },
    {
     "data": {
      "text/plain": [
       "'./dataset/era5/tmp.zip'"
      ]
     },
     "execution_count": 8,
     "metadata": {},
     "output_type": "execute_result"
    }
   ],
   "source": [
    "dataset = \"reanalysis-era5-single-levels\"\n",
    "request = {\n",
    "    \"product_type\": [\"reanalysis\"],\n",
    "    \"variable\": [\n",
    "        \"10m_u_component_of_wind\",\n",
    "        \"10m_v_component_of_wind\",\n",
    "        \"significant_height_of_combined_wind_waves_and_swell\",\n",
    "        \"sea_ice_cover\"\n",
    "    ],\n",
    "    \"year\": [\"2024\"],\n",
    "    \"month\": [\"10\"],\n",
    "    \"day\": [\n",
    "        \"01\", \"02\", \"03\",\n",
    "        \"04\", \"05\", \"06\",\n",
    "        \"07\", \"08\", \"09\",\n",
    "        \"10\", \"11\", \"12\",\n",
    "        \"13\", \"14\", \"15\",\n",
    "        \"16\", \"17\", \"18\",\n",
    "        \"19\", \"20\", \"21\",\n",
    "        \"22\", \"23\", \"24\",\n",
    "        \"25\", \"26\", \"27\",\n",
    "        \"28\", \"29\", \"30\",\n",
    "        \"31\"\n",
    "    ],\n",
    "    \"time\": [\"09:00\"],\n",
    "    \"data_format\": \"netcdf\",\n",
    "    \"download_format\": \"unarchived\",\n",
    "    \"area\": [90, -180, 45, 180]\n",
    "}\n",
    "\n",
    "client = cdsapi.Client()\n",
    "client.retrieve(dataset, request).download(target='./dataset/era5/tmp.zip')"
   ]
  },
  {
   "cell_type": "code",
   "execution_count": 9,
   "metadata": {},
   "outputs": [
    {
     "name": "stdout",
     "output_type": "stream",
     "text": [
      "Archive:  ./dataset/era5/tmp.zip\n",
      "  inflating: ./dataset/era5/data_stream-oper_stepType-instant.nc  \n",
      "  inflating: ./dataset/era5/data_stream-wave_stepType-instant.nc  \n"
     ]
    }
   ],
   "source": [
    "! unzip -o ./dataset/era5/tmp.zip -d ./dataset/era5\n",
    "! rm ./dataset/era5/tmp.zip"
   ]
  },
  {
   "cell_type": "markdown",
   "metadata": {},
   "source": [
    "## ArcNet Dataset\n",
    "\n",
    "Reference.\n",
    "\n",
    "James, T.D., Sommerkorn, M., Solovyev, B. et al. Whole-ocean network design and implementation pathway for Arctic marine conservation. npj Ocean Sustain 3, 25 (2024). https://doi.org/10.1038/s44183-024-00047-9"
   ]
  },
  {
   "cell_type": "code",
   "execution_count": 10,
   "metadata": {},
   "outputs": [
    {
     "name": "stdout",
     "output_type": "stream",
     "text": [
      "--2025-02-15 14:42:18--  https://static-content.springer.com/esm/art%3A10.1038%2Fs44183-024-00047-9/MediaObjects/44183_2024_47_MOESM6_ESM.zip\n",
      "Resolving static-content.springer.com (static-content.springer.com)... 151.101.192.95, 151.101.128.95, 151.101.64.95, ...\n",
      "Connecting to static-content.springer.com (static-content.springer.com)|151.101.192.95|:443... connected.\n",
      "HTTP request sent, awaiting response... 200 OK\n",
      "Length: 3709648 (3.5M) [application/octet-stream]\n",
      "Saving to: ‘./dataset/arcnet/tmp.zip’\n",
      "\n",
      "./dataset/arcnet/tm 100%[===================>]   3.54M  2.58MB/s    in 1.4s    \n",
      "\n",
      "2025-02-15 14:42:20 (2.58 MB/s) - ‘./dataset/arcnet/tmp.zip’ saved [3709648/3709648]\n",
      "\n"
     ]
    }
   ],
   "source": [
    "! wget -O ./dataset/arcnet/tmp.zip \\\n",
    "    https://static-content.springer.com/esm/art%3A10.1038%2Fs44183-024-00047-9/MediaObjects/44183_2024_47_MOESM6_ESM.zip"
   ]
  },
  {
   "cell_type": "code",
   "execution_count": 11,
   "metadata": {},
   "outputs": [
    {
     "name": "stdout",
     "output_type": "stream",
     "text": [
      "Archive:  ./dataset/arcnet/tmp.zip\n",
      " extracting: ./dataset/arcnet/ArcNet_shp_files/ArcNet_Domain_curved.cpg  \n",
      "  inflating: ./dataset/arcnet/ArcNet_shp_files/ArcNet_Domain_curved.dbf  \n",
      "  inflating: ./dataset/arcnet/ArcNet_shp_files/ArcNet_Domain_curved.prj  \n",
      "  inflating: ./dataset/arcnet/ArcNet_shp_files/ArcNet_Domain_curved.qmd  \n",
      "  inflating: ./dataset/arcnet/ArcNet_shp_files/ArcNet_Domain_curved.shp  \n",
      "  inflating: ./dataset/arcnet/ArcNet_shp_files/ArcNet_Domain_curved.shx  \n",
      " extracting: ./dataset/arcnet/ArcNet_shp_files/ArcNet_Domain_uncurved.cpg  \n",
      "  inflating: ./dataset/arcnet/ArcNet_shp_files/ArcNet_Domain_uncurved.dbf  \n",
      "  inflating: ./dataset/arcnet/ArcNet_shp_files/ArcNet_Domain_uncurved.prj  \n",
      "  inflating: ./dataset/arcnet/ArcNet_shp_files/ArcNet_Domain_uncurved.qmd  \n",
      "  inflating: ./dataset/arcnet/ArcNet_shp_files/ArcNet_Domain_uncurved.shp  \n",
      "  inflating: ./dataset/arcnet/ArcNet_shp_files/ArcNet_Domain_uncurved.shx  \n",
      " extracting: ./dataset/arcnet/ArcNet_shp_files/ArcNet_PACs_curved.cpg  \n",
      "  inflating: ./dataset/arcnet/ArcNet_shp_files/ArcNet_PACs_curved.dbf  \n",
      "  inflating: ./dataset/arcnet/ArcNet_shp_files/ArcNet_PACs_curved.prj  \n",
      "  inflating: ./dataset/arcnet/ArcNet_shp_files/ArcNet_PACs_curved.qmd  \n",
      "  inflating: ./dataset/arcnet/ArcNet_shp_files/ArcNet_PACs_curved.shp  \n",
      "  inflating: ./dataset/arcnet/ArcNet_shp_files/ArcNet_PACs_curved.shx  \n",
      " extracting: ./dataset/arcnet/ArcNet_shp_files/ArcNet_PACs_uncurved.cpg  \n",
      "  inflating: ./dataset/arcnet/ArcNet_shp_files/ArcNet_PACs_uncurved.dbf  \n",
      "  inflating: ./dataset/arcnet/ArcNet_shp_files/ArcNet_PACs_uncurved.prj  \n",
      "  inflating: ./dataset/arcnet/ArcNet_shp_files/ArcNet_PACs_uncurved.qmd  \n",
      "  inflating: ./dataset/arcnet/ArcNet_shp_files/ArcNet_PACs_uncurved.shp  \n",
      "  inflating: ./dataset/arcnet/ArcNet_shp_files/ArcNet_PACs_uncurved.shx  \n",
      "  inflating: ./dataset/arcnet/ArcNet_shp_files/ReadMe_ArcNet_shp_files.txt  \n"
     ]
    }
   ],
   "source": [
    "! unzip -o ./dataset/arcnet/tmp.zip -d ./dataset/arcnet\n",
    "! rm ./dataset/arcnet/tmp.zip"
   ]
  },
  {
   "cell_type": "markdown",
   "metadata": {},
   "source": [
    "Convert the ArcNet Shape file(Vector) into the Raster(Pixels)"
   ]
  },
  {
   "cell_type": "code",
   "execution_count": 12,
   "metadata": {},
   "outputs": [
    {
     "name": "stdout",
     "output_type": "stream",
     "text": [
      "0...10...20...30...40...50...60...70...80...90...100 - done.\n"
     ]
    }
   ],
   "source": [
    "! gdal_rasterize -l ArcNet_PACs_uncurved \\\n",
    "    -a PAC_ID -tr 1000.0 1000.0 -a_nodata 0.0 -ot Float32 -of GTiff \\\n",
    "        ./dataset/arcnet/ArcNet_shp_files/ArcNet_PACs_uncurved.shp \\\n",
    "            ./dataset/arcnet/arcnet_rasterized_1km.tif"
   ]
  },
  {
   "cell_type": "markdown",
   "metadata": {},
   "source": [
    "Reproject to the coordinate system EPSG:4326 with 0.25°x0.25° resolution."
   ]
  },
  {
   "cell_type": "code",
   "execution_count": 13,
   "metadata": {},
   "outputs": [
    {
     "name": "stdout",
     "output_type": "stream",
     "text": [
      "Creating output file that is 1440P x 180L.\n",
      "Processing ./dataset/arcnet/arcnet_rasterized_1km.tif [1/1] : 0Using internal nodata values (e.g. 0) for image ./dataset/arcnet/arcnet_rasterized_1km.tif.\n",
      "Copying nodata values from source ./dataset/arcnet/arcnet_rasterized_1km.tif to destination ./dataset/arcnet/arcnet_epsg4326_25e-2.tif.\n",
      "...10...20...30...40...50...60...70...80...90...100 - done.\n"
     ]
    }
   ],
   "source": [
    "! gdalwarp -overwrite -t_srs EPSG:4326 -tr 0.25 0.25 -r near \\\n",
    "    -te -180.0 45.0 180.0 90.0 -te_srs EPSG:4326 -of GTiff \\\n",
    "        ./dataset/arcnet/arcnet_rasterized_1km.tif ./dataset/arcnet/arcnet_epsg4326_25e-2.tif"
   ]
  },
  {
   "cell_type": "markdown",
   "metadata": {},
   "source": [
    "# "
   ]
  }
 ],
 "metadata": {
  "kernelspec": {
   "display_name": "cv-seaicelead",
   "language": "python",
   "name": "python3"
  },
  "language_info": {
   "codemirror_mode": {
    "name": "ipython",
    "version": 3
   },
   "file_extension": ".py",
   "mimetype": "text/x-python",
   "name": "python",
   "nbconvert_exporter": "python",
   "pygments_lexer": "ipython3",
   "version": "3.12.3"
  }
 },
 "nbformat": 4,
 "nbformat_minor": 2
}
